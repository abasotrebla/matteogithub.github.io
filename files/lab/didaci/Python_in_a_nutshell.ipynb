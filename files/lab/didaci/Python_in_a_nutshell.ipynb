{
 "cells": [
  {
   "cell_type": "markdown",
   "metadata": {
    "colab_type": "text",
    "id": "A7Cp0mS9mL7b",
    "slideshow": {
     "slide_type": "slide"
    }
   },
   "source": [
    "# Python In a Nutshell\n"
   ]
  },
  {
   "cell_type": "markdown",
   "metadata": {
    "colab_type": "text",
    "id": "T9-90IBvmL7d",
    "nbpresent": {
     "id": "25901cac-0289-4573-af60-f47251052954"
    },
    "slideshow": {
     "slide_type": "slide"
    }
   },
   "source": [
    "## Why another programming language?\n",
    "\n",
    "**All Programming Languages are created equal**  ;-) \n",
    "\n",
    "Bohm & Jacopini demonstrate that any programming language that allows you to write\n",
    "\n",
    "- sequence\n",
    "- conditional structure\n",
    "- loops\n",
    "\n",
    "can compute any computable function \n",
    "\n",
    "[C. Bohm, e G. Jacopini,\n",
    "Flow Diagrams, Turing Machines and Languages with Only Two Formation Rules, in Communications of the ACM, 1966]\n"
   ]
  },
  {
   "cell_type": "markdown",
   "metadata": {
    "colab_type": "text",
    "id": "l9EFgGKwmL7e",
    "slideshow": {
     "slide_type": "slide"
    }
   },
   "source": [
    "But... sometimes we need the 'easy' way\n",
    "\n",
    "\"**Economy of effort. Never stand up when you can sit down, and never sit down when you can lie down**\"\n",
    "\n",
    "[Churchill, 1946] \n",
    "\n",
    "From this point of view, 'some programming languages are more equal than others' [Orwell, 1945]  \n",
    "\n"
   ]
  },
  {
   "cell_type": "markdown",
   "metadata": {
    "colab_type": "text",
    "id": "qNWKIJ1pmL7e",
    "slideshow": {
     "slide_type": "slide"
    }
   },
   "source": [
    "Aim of this talk:\n",
    "    \n",
    "give you a 'taste' of Python\n",
    "\n",
    "show that \n",
    "\n",
    "- some tasks are very easy in python (compared to other programming languages)\n",
    "\n",
    "- python can be useful and handy to carry out Pattern Recognition tasks.\n",
    "\n"
   ]
  },
  {
   "cell_type": "code",
   "execution_count": null,
   "metadata": {
    "colab": {},
    "colab_type": "code",
    "id": "79s52vEF20P-"
   },
   "outputs": [],
   "source": []
  },
  {
   "cell_type": "markdown",
   "metadata": {
    "colab_type": "text",
    "id": "o2XqysO0mL7f",
    "nbpresent": {
     "id": "1f1bd94e-4915-4685-8209-cbff718ee417"
    },
    "slideshow": {
     "slide_type": "slide"
    }
   },
   "source": [
    "---\n",
    "# Development environment:\n",
    "\n",
    "IDE (**Pycharm**, Eclypse, **Spyder**, Wing Ide,...) (the usual way)\n",
    "\n",
    "or \n",
    "\n",
    "Jupyter notebook: an interactive environment"
   ]
  },
  {
   "cell_type": "markdown",
   "metadata": {
    "colab_type": "text",
    "id": "v6FmxX8SmL7g",
    "nbpresent": {
     "id": "697a6722-a618-4600-9db4-b2465853e680"
    },
    "slideshow": {
     "slide_type": "slide"
    }
   },
   "source": [
    "**Jupyter notebook** allows you to integrate in a single instrument \n",
    "\n",
    "* Comments LIKE THIS\n",
    "* Text with a *markup* **language**\n",
    "* Code\n",
    "* Output\n",
    "* ... and latex formulas: \n",
    "\n",
    "a= \\int_0^{+\\infty} f(x) dx\n",
    "\n",
    "$$ a= \\int_0^{+\\infty} f(x) dx$$\n"
   ]
  },
  {
   "cell_type": "markdown",
   "metadata": {
    "colab_type": "text",
    "id": "yAZEUE5imL7m",
    "nbpresent": {
     "id": "514df14f-3e5c-493e-82a2-f8641cb3787d"
    },
    "slideshow": {
     "slide_type": "slide"
    }
   },
   "source": [
    "---\n",
    "## Variables\n",
    "\n",
    "There is no need to declare the variables.\n",
    "\n",
    "The type is associate to the VALUE, not to the variable (dynamically typed).\n",
    "\n",
    "It depends on the value that we assign.\n"
   ]
  },
  {
   "cell_type": "code",
   "execution_count": null,
   "metadata": {
    "colab": {
     "base_uri": "https://localhost:8080/",
     "height": 84
    },
    "colab_type": "code",
    "id": "NbYDwz4UmL7n",
    "nbpresent": {
     "id": "ccdd76cf-c59b-4726-9085-7047f4cca8bd"
    },
    "outputId": "01fccbb9-3794-4862-d913-29041e896f03",
    "slideshow": {
     "slide_type": "-"
    }
   },
   "outputs": [],
   "source": [
    "\n",
    "\n",
    "a=1       # integer\n",
    "print (a, ':', type(a))\n",
    "\n"
   ]
  },
  {
   "cell_type": "markdown",
   "metadata": {
    "colab_type": "text",
    "id": "0WCW_zLonFz3"
   },
   "source": [
    "Try this in a new cell:\n",
    "```python\n",
    "b=1.0   \n",
    "c='Newton' \n",
    "z=1+2*1j\n",
    "list_1=[10, 20, 30, 'a string!', 50] \n",
    "```\n"
   ]
  },
  {
   "cell_type": "code",
   "execution_count": null,
   "metadata": {
    "colab": {},
    "colab_type": "code",
    "id": "FJspYBN9ne7r"
   },
   "outputs": [],
   "source": []
  },
  {
   "cell_type": "markdown",
   "metadata": {
    "colab_type": "text",
    "id": "7Eb_WgyZnfnJ"
   },
   "source": [
    "Try this in a new cell:\n",
    "```python\n",
    "\n",
    "list1.append(100)\n",
    "print ('is 20 in the list? ',20 in list_1)\n",
    "print ('is 200 in the list? ',200 in list_1)\n",
    "\n",
    "```"
   ]
  },
  {
   "cell_type": "code",
   "execution_count": null,
   "metadata": {
    "colab": {},
    "colab_type": "code",
    "id": "ptX0IlQ2tBW0"
   },
   "outputs": [],
   "source": []
  },
  {
   "cell_type": "markdown",
   "metadata": {
    "colab_type": "text",
    "id": "6xdOIktnmL8E",
    "nbpresent": {
     "id": "110ab752-2b93-4e9f-b426-fc4ce7958e80"
    },
    "slideshow": {
     "slide_type": "slide"
    }
   },
   "source": [
    "---\n",
    "## LOOPS\n",
    "\n",
    "We can compare a FOR loop in C vs a FOR loop in python"
   ]
  },
  {
   "cell_type": "markdown",
   "metadata": {
    "colab_type": "text",
    "id": "sAiJQx8GmL8F",
    "slideshow": {
     "slide_type": "slide"
    }
   },
   "source": [
    "Problem: print the numbers {10,15,20,7,14}\n",
    "\n",
    "The C approach use an index to scan the array and print all the values. \n",
    "\n",
    "BUT the index itself it is not necessary for the ‘logic’ of the problem. \n",
    "\n",
    "* DEFINE THE ARRAY \n",
    "* DEFINE A COUNTER \n",
    "* SET THE COUNTER TO 0 \n",
    "* INCREMENT THE COUNTER\n",
    "* CHECK THE COUNTER\n",
    "\n"
   ]
  },
  {
   "cell_type": "markdown",
   "metadata": {
    "colab_type": "raw",
    "id": "EXJ6nrLTmL8G",
    "slideshow": {
     "slide_type": "slide"
    }
   },
   "source": [
    "---\n",
    "### C CODE\n",
    "\n",
    "``` c\n",
    "int main(){\n",
    "    int lunghezza=5;\n",
    "    int int_array[]={10,15,20,7,14};\n",
    "    int i;\n",
    "    for (i=0; i<lunghezza; i++){\n",
    "         printf (\"%d\\n\", int_array[i]); \n",
    "    }\n",
    "    return 0;\n",
    "}\n",
    "```\n",
    "\n",
    "---"
   ]
  },
  {
   "cell_type": "markdown",
   "metadata": {
    "colab_type": "text",
    "id": "ht7YnBkVsna5"
   },
   "source": [
    "### Try this in python:\n",
    "\n",
    "- create a list (i.e. `list_1`)\n",
    "- iterate using `for el in list_1: `\n"
   ]
  },
  {
   "cell_type": "code",
   "execution_count": null,
   "metadata": {
    "colab": {},
    "colab_type": "code",
    "id": "jdCrBrGSs_QI"
   },
   "outputs": [],
   "source": []
  },
  {
   "cell_type": "markdown",
   "metadata": {
    "colab_type": "text",
    "id": "eh8cnV-kmL8Z",
    "nbpresent": {
     "id": "cf2b65b4-41dd-492a-adb8-b98fff3f80e4"
    },
    "slideshow": {
     "slide_type": "slide"
    }
   },
   "source": [
    "---\n",
    "## Numpy: Matlab without buying Matlab.\n",
    "\n",
    "http://docs.scipy.org/doc/numpy/\n"
   ]
  },
  {
   "cell_type": "code",
   "execution_count": null,
   "metadata": {
    "colab": {},
    "colab_type": "code",
    "id": "dn01r6ommL8a",
    "nbpresent": {
     "id": "22bca80e-6ca1-4ccd-af54-46a2a6ddf302"
    },
    "slideshow": {
     "slide_type": "-"
    }
   },
   "outputs": [],
   "source": [
    "# The package NUMPY allows us to use a Matlab-like environment without buying Matlab.\n",
    "\n",
    "import numpy as np \n",
    "\n",
    "# tells to the Interpreter to use the package NUMPY, \n",
    "# and to use the alias np for reason of brevity."
   ]
  },
  {
   "cell_type": "markdown",
   "metadata": {
    "colab_type": "text",
    "id": "YaQ2c-dXmL8b",
    "slideshow": {
     "slide_type": "slide"
    }
   },
   "source": [
    "---\n",
    "## ARRAY and LINEAR ALGEBRA"
   ]
  },
  {
   "cell_type": "markdown",
   "metadata": {
    "colab_type": "text",
    "id": "bSjxhgCStUrb"
   },
   "source": [
    "Create an array:\n",
    "\n",
    "```np.array(list)```\n",
    "\n",
    "- list of numbers -> a 'vector' \n",
    "- list of lists -> an array\n",
    "\n",
    "Try this!"
   ]
  },
  {
   "cell_type": "code",
   "execution_count": null,
   "metadata": {
    "colab": {},
    "colab_type": "code",
    "id": "DysCRJqm3RyK"
   },
   "outputs": [],
   "source": []
  },
  {
   "cell_type": "markdown",
   "metadata": {
    "colab_type": "text",
    "id": "TY1lK3APt5cE"
   },
   "source": [
    "---\n",
    "Create an array using Python functions\n",
    "\n",
    "\n",
    "```python\n",
    "np.arange(n)\n",
    "np.zeros(r,c)\n",
    "np.random.randint(min_v,max_v,[r,c])\n",
    "```\n",
    "Try this!"
   ]
  },
  {
   "cell_type": "code",
   "execution_count": null,
   "metadata": {
    "colab": {},
    "colab_type": "code",
    "id": "Kb3_QXp-wQMV"
   },
   "outputs": [],
   "source": []
  },
  {
   "cell_type": "markdown",
   "metadata": {
    "colab_type": "text",
    "id": "BLoTThG4wQYk"
   },
   "source": [
    "---\n",
    "Create an array like this:\n",
    "\n",
    "\n",
    "|    |    |    |    |    |    |    |    |\n",
    "|----|----|----|----|----|----|----|----|\n",
    "| 0  | 1  | 2  | 3  | 4  | 5  | 6  | 7  |  \n",
    "| 8  | 9  | 10 | 11 | 12 | 13 | 14 | 15 |  \n",
    "| 16 | 17 | 18 | 19 | 20 | 21 | 22 | 23 |  \n",
    "| 24 | 25 | 26 | 27 | 28 | 29 | 30 | 31 |  \n",
    "\n",
    "**hint:** \n",
    "\n",
    "use `x=np.arange`  to create values, and `x.reshape` to trasform the 1-d array into a 2-d array.\n",
    "\n",
    "Try this!"
   ]
  },
  {
   "cell_type": "code",
   "execution_count": null,
   "metadata": {
    "colab": {},
    "colab_type": "code",
    "id": "uUC1cqI2xp8M"
   },
   "outputs": [],
   "source": []
  },
  {
   "cell_type": "markdown",
   "metadata": {
    "colab_type": "text",
    "id": "lC_bSBqRxwQk"
   },
   "source": [
    "---\n",
    "Select rows (or colums)\n",
    "\n",
    "```python\n",
    "y=np.array([2,3,1,3])\n",
    "```\n",
    "\n",
    "Select the rows of x based on the values of y\n",
    "\n",
    "```python\n",
    "x[condition, :]\n",
    "```\n",
    "\n",
    "Try this!"
   ]
  },
  {
   "cell_type": "code",
   "execution_count": null,
   "metadata": {
    "colab": {},
    "colab_type": "code",
    "id": "q_UOgFTe2tTL"
   },
   "outputs": [],
   "source": []
  }
 ],
 "metadata": {
  "colab": {
   "name": "Python in a nutshell.ipynb",
   "provenance": [],
   "version": "0.3.2"
  },
  "kernelspec": {
   "display_name": "Python 3",
   "language": "python",
   "name": "python3"
  },
  "language_info": {
   "codemirror_mode": {
    "name": "ipython",
    "version": 3
   },
   "file_extension": ".py",
   "mimetype": "text/x-python",
   "name": "python",
   "nbconvert_exporter": "python",
   "pygments_lexer": "ipython3",
   "version": "3.6.8"
  }
 },
 "nbformat": 4,
 "nbformat_minor": 1
}
