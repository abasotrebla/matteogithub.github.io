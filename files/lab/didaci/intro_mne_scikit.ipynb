{
 "cells": [
  {
   "cell_type": "markdown",
   "metadata": {
    "colab_type": "text",
    "id": "izP6T08z3wdC"
   },
   "source": [
    "# MNE\n",
    "\n",
    "Open-source Python software for exploring, visualizing, and analyzing human neurophysiological data: MEG, EEG, sEEG, ECoG, and more.\n",
    "\n",
    "<https://martinos.org/mne>\n",
    "\n",
    "---\n"
   ]
  },
  {
   "cell_type": "code",
   "execution_count": null,
   "metadata": {
    "colab": {},
    "colab_type": "code",
    "id": "Xswwsy0ClBho"
   },
   "outputs": [],
   "source": [
    "import numpy as np\n"
   ]
  },
  {
   "cell_type": "code",
   "execution_count": null,
   "metadata": {
    "colab": {
     "base_uri": "https://localhost:8080/",
     "height": 67
    },
    "colab_type": "code",
    "id": "L53MOzwl4gBk",
    "outputId": "18b95669-d2cf-4357-a2e3-84eb3d26212e"
   },
   "outputs": [],
   "source": [
    "pip install mne\n"
   ]
  },
  {
   "cell_type": "code",
   "execution_count": null,
   "metadata": {
    "colab": {},
    "colab_type": "code",
    "id": "XBwmXhYC497z"
   },
   "outputs": [],
   "source": [
    "from mne.datasets import eegbci\n",
    "from mne.io import concatenate_raws, read_raw_edf"
   ]
  },
  {
   "cell_type": "code",
   "execution_count": null,
   "metadata": {
    "colab": {
     "base_uri": "https://localhost:8080/",
     "height": 269
    },
    "colab_type": "code",
    "id": "0djwH6Y25MVZ",
    "outputId": "50f145a8-f379-4920-858f-7dde2b05d9e0"
   },
   "outputs": [],
   "source": [
    "\n",
    "subject = 1\n",
    "runs = [6, 10, 14]  # motor imagery: hands vs feet\n",
    "\n",
    "raw_fnames = eegbci.load_data(subject, runs) \n",
    "\n",
    "raw = concatenate_raws([read_raw_edf(f, preload=True) for f in raw_fnames])\n"
   ]
  },
  {
   "cell_type": "markdown",
   "metadata": {
    "colab_type": "text",
    "id": "9NXyxUds9lH_"
   },
   "source": [
    "---\n",
    "Plot the data using \n",
    "\n",
    "```python\n",
    "raw.plot(start=..., duration=..., n_channels=..., scalings='auto')\n",
    "\n",
    "```\n"
   ]
  },
  {
   "cell_type": "code",
   "execution_count": null,
   "metadata": {
    "colab": {},
    "colab_type": "code",
    "id": "uo6IwVNC_G0V"
   },
   "outputs": [],
   "source": []
  },
  {
   "cell_type": "markdown",
   "metadata": {
    "colab_type": "text",
    "id": "d5HEVDi-J_qk"
   },
   "source": [
    "---"
   ]
  },
  {
   "cell_type": "code",
   "execution_count": null,
   "metadata": {
    "colab": {
     "base_uri": "https://localhost:8080/",
     "height": 269
    },
    "colab_type": "code",
    "id": "xOe5IqcoltD2",
    "outputId": "8552c635-57bc-476d-de93-3b6fb80206c4"
   },
   "outputs": [],
   "source": [
    "# Apply band-pass filter\n",
    "raw.filter(7., 30., fir_design='firwin', skip_by_annotation='edge')\n",
    "\n",
    "\n"
   ]
  },
  {
   "cell_type": "markdown",
   "metadata": {
    "colab_type": "text",
    "id": "Z6Fcdo397BtM"
   },
   "source": [
    "---\n",
    "### Divide into epochs"
   ]
  },
  {
   "cell_type": "code",
   "execution_count": null,
   "metadata": {
    "colab": {},
    "colab_type": "code",
    "id": "shHLDjzF7F-I"
   },
   "outputs": [],
   "source": [
    "from mne import Epochs, pick_types, events_from_annotations"
   ]
  },
  {
   "cell_type": "code",
   "execution_count": null,
   "metadata": {
    "colab": {
     "base_uri": "https://localhost:8080/",
     "height": 34
    },
    "colab_type": "code",
    "id": "BucPHWm96Oxo",
    "outputId": "159ef6f3-1c87-4af8-c130-6e4f5af28130"
   },
   "outputs": [],
   "source": [
    "events, _ = events_from_annotations(raw, event_id=dict(T1=2, T2=3))\n",
    "picks = pick_types(raw.info, meg=False, eeg=True, stim=False, eog=False,\n",
    "                   exclude='bads')"
   ]
  },
  {
   "cell_type": "markdown",
   "metadata": {
    "colab_type": "text",
    "id": "yyEkutX07NWn"
   },
   "source": [
    "have a look to `events` and `picks`"
   ]
  },
  {
   "cell_type": "code",
   "execution_count": null,
   "metadata": {
    "colab": {},
    "colab_type": "code",
    "id": "J3qRC_v27Tee"
   },
   "outputs": [],
   "source": []
  },
  {
   "cell_type": "code",
   "execution_count": null,
   "metadata": {
    "colab": {
     "base_uri": "https://localhost:8080/",
     "height": 118
    },
    "colab_type": "code",
    "id": "xJkseSbx62O4",
    "outputId": "84101256-87d4-4262-e5ef-d84dd56bbf1b"
   },
   "outputs": [],
   "source": [
    "event_id = dict(hands=2, feet=3)\n",
    "tmin, tmax=-1,4\n",
    "\n",
    "epochs = Epochs(raw, events, event_id, tmin, tmax, proj=True, picks=picks,\n",
    "                baseline=None, preload=True)"
   ]
  },
  {
   "cell_type": "markdown",
   "metadata": {
    "colab_type": "text",
    "id": "wJeuSqiKJRea"
   },
   "source": [
    "---\n",
    "Consider only 1 second for each epoch"
   ]
  },
  {
   "cell_type": "code",
   "execution_count": null,
   "metadata": {
    "colab": {},
    "colab_type": "code",
    "id": "ze7uf89jJYvF"
   },
   "outputs": [],
   "source": [
    "epochs_design = epochs.copy().crop(tmin=1., tmax=2.)\n"
   ]
  },
  {
   "cell_type": "markdown",
   "metadata": {
    "colab_type": "text",
    "id": "pPdYuP5fBmeB"
   },
   "source": [
    "---\n",
    "\n",
    "Create a new variable `y` (**label**) from `events` (or from `epochs_design.events`)\n",
    "\n",
    "`y`:\n",
    "\n",
    "- 0: event T1\n",
    "- 1: event T2"
   ]
  },
  {
   "cell_type": "code",
   "execution_count": null,
   "metadata": {
    "colab": {},
    "colab_type": "code",
    "id": "1Fw5f4YNCGZy"
   },
   "outputs": [],
   "source": [
    "#y =..."
   ]
  },
  {
   "cell_type": "markdown",
   "metadata": {
    "colab_type": "text",
    "id": "LvTUK1j_ChNv"
   },
   "source": [
    "---\n",
    "Get **data** from `epochs_design`, using the method `get_data()`\n",
    "\n",
    "Have a look to the data, using `shape`"
   ]
  },
  {
   "cell_type": "code",
   "execution_count": null,
   "metadata": {
    "colab": {},
    "colab_type": "code",
    "id": "QYgtngOrC0bL"
   },
   "outputs": [],
   "source": [
    "#X=..."
   ]
  },
  {
   "cell_type": "code",
   "execution_count": null,
   "metadata": {
    "colab": {
     "base_uri": "https://localhost:8080/",
     "height": 34
    },
    "colab_type": "code",
    "id": "fXM7gGicC5r3",
    "outputId": "0260e7e5-4686-4c2a-8454-c30b4780ac5c"
   },
   "outputs": [],
   "source": [
    "X.shape"
   ]
  },
  {
   "cell_type": "markdown",
   "metadata": {
    "colab_type": "text",
    "id": "MWGaNofdFbjD"
   },
   "source": [
    "----\n",
    "# SCIKIT-LEARN \n",
    "\n",
    "Machine learning in python\n",
    "\n",
    "<https://scikit-learn.org>\n",
    "\n",
    "---\n",
    "\n",
    "Split data and labels into random train and test subsets using \n",
    "\n",
    "\n",
    "`train_test_split` from `sklearn.model_selection`.\n",
    "\n",
    "Have a look to the data.\n",
    "\n",
    "\n",
    "\n",
    "\n"
   ]
  },
  {
   "cell_type": "code",
   "execution_count": null,
   "metadata": {
    "colab": {},
    "colab_type": "code",
    "id": "-jkNN26dFb0N"
   },
   "outputs": [],
   "source": [
    "from sklearn.model_selection import train_test_split\n",
    "X_train, X_test, y_train, y_test = train_test_split(X, y, test_size=0.33)\n"
   ]
  },
  {
   "cell_type": "code",
   "execution_count": null,
   "metadata": {
    "colab": {
     "base_uri": "https://localhost:8080/",
     "height": 34
    },
    "colab_type": "code",
    "id": "ewfiTLwGF_W_",
    "outputId": "0a7f7fe0-4bfb-4098-c3ef-eb07d53829a6"
   },
   "outputs": [],
   "source": [
    "X_test.shape"
   ]
  },
  {
   "cell_type": "markdown",
   "metadata": {
    "colab_type": "text",
    "id": "_9X-O_j1C_70"
   },
   "source": [
    "---\n",
    "\n",
    "## Feature extraction:\n",
    "\n",
    "**Common Spatial Pattern (CSP)**\n",
    "\n",
    "- Zoltan J. Koles. The quantitative extraction and topographic mapping of the abnormal components in the clinical EEG. Electroencephalography and Clinical Neurophysiology, 79(6):440–447, December 1991.\n",
    "- https://en.wikipedia.org/wiki/Common_spatial_*pattern*"
   ]
  },
  {
   "cell_type": "code",
   "execution_count": null,
   "metadata": {
    "colab": {},
    "colab_type": "code",
    "id": "UlQpHgL5DAOG"
   },
   "outputs": [],
   "source": [
    "from mne.decoding import CSP\n",
    "csp = CSP(n_components=4, reg=None, log=True, norm_trace=False)\n"
   ]
  },
  {
   "cell_type": "markdown",
   "metadata": {
    "colab_type": "text",
    "id": "exHLlOdfG-7-"
   },
   "source": [
    "---\n",
    "\n",
    "Use of **CSP**\n",
    "\n",
    "\n",
    "- 'train' the decoder using the `fit()` method.\n",
    "\n",
    "- transform the data using the `tranform()` method\n",
    "\n",
    "have a look to the data\n"
   ]
  },
  {
   "cell_type": "code",
   "execution_count": null,
   "metadata": {
    "colab": {
     "base_uri": "https://localhost:8080/",
     "height": 252
    },
    "colab_type": "code",
    "id": "zqpLdhAuHjE5",
    "outputId": "b52749ab-c816-482e-a424-750c00564269"
   },
   "outputs": [],
   "source": [
    "# csp.fit(...)\n",
    "# X_train_csp=...\n",
    "# X_test_csp=..."
   ]
  },
  {
   "cell_type": "markdown",
   "metadata": {
    "colab_type": "text",
    "id": "r3j-ZHXCLBwm"
   },
   "source": [
    "---\n",
    "\n",
    "Create a linear discriminant classifier\n",
    "\n",
    "```python\n",
    "from sklearn.discriminant_analysis import LinearDiscriminantAnalysis\n",
    "lda = LinearDiscriminantAnalysis()\n",
    "```\n",
    "- Train the classifier using the `fit()` method\n",
    "- Classify the test set using the `predict()`method\n",
    "- Estimate accuracy\n",
    "\n"
   ]
  },
  {
   "cell_type": "code",
   "execution_count": null,
   "metadata": {
    "colab": {},
    "colab_type": "code",
    "id": "5BjqgXWomWBF"
   },
   "outputs": [],
   "source": [
    "\n",
    "\n"
   ]
  },
  {
   "cell_type": "markdown",
   "metadata": {
    "colab_type": "text",
    "id": "Ki0QqAvvLsTh"
   },
   "source": [
    "---\n",
    "Repeat the process using the `knn` classifier\n",
    "\n",
    "```python\n",
    "from sklearn.neighbors import KNeighborsClassifier\n",
    "knn=KNeighborsClassifier(k)\n",
    "```\n"
   ]
  },
  {
   "cell_type": "code",
   "execution_count": null,
   "metadata": {
    "colab": {},
    "colab_type": "code",
    "id": "FTmchSpintoh"
   },
   "outputs": [],
   "source": []
  }
 ],
 "metadata": {
  "colab": {
   "name": "intro_mne_scikit.ipynb",
   "provenance": [],
   "version": "0.3.2"
  },
  "kernelspec": {
   "display_name": "Python 3",
   "language": "python",
   "name": "python3"
  },
  "language_info": {
   "codemirror_mode": {
    "name": "ipython",
    "version": 3
   },
   "file_extension": ".py",
   "mimetype": "text/x-python",
   "name": "python",
   "nbconvert_exporter": "python",
   "pygments_lexer": "ipython3",
   "version": "3.6.8"
  }
 },
 "nbformat": 4,
 "nbformat_minor": 1
}
